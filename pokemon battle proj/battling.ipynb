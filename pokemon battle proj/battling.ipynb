{
 "cells": [
  {
   "cell_type": "markdown",
   "metadata": {},
   "source": [
    "# Importing"
   ]
  },
  {
   "cell_type": "code",
   "execution_count": 25,
   "metadata": {},
   "outputs": [],
   "source": [
    "import pandas as pd\n",
    "import random as rd\n",
    "import matplotlib.pyplot as plt\n",
    "import numpy as np\n",
    "df = pd.read_csv('pokemon.csv')"
   ]
  },
  {
   "cell_type": "markdown",
   "metadata": {},
   "source": [
    "## Choosing pokemon"
   ]
  },
  {
   "cell_type": "markdown",
   "metadata": {},
   "source": [
    "### human pokemon\n"
   ]
  },
  {
   "cell_type": "code",
   "execution_count": 26,
   "metadata": {},
   "outputs": [
    {
     "name": "stdout",
     "output_type": "stream",
     "text": [
      "A random pokemon of 'Grass' type is: ShayminLand Forme\n"
     ]
    }
   ],
   "source": [
    "human_type = input(\"Enter the type: (case sensitive)\")\n",
    "def choose_pokemon(type):\n",
    "    type_column = 'Type 1'  \n",
    "    name_column = 'Name'  \n",
    "\n",
    "\n",
    "\n",
    "\n",
    "    filtered_df = df[df[type_column] == type]\n",
    "\n",
    "    if not filtered_df.empty:\n",
    "        \n",
    "        global pokemon\n",
    "        pokemon = filtered_df[name_column].sample().iloc[0]\n",
    "        \n",
    "        print(f\"A random pokemon of '{type}' type is: {pokemon}\")\n",
    "        return pokemon\n",
    "    else:\n",
    "        print(f\"No pokemon found for the type: {type}\")\n",
    "        return None\n",
    "\n",
    "human_pokemon = choose_pokemon(human_type)\n"
   ]
  },
  {
   "cell_type": "markdown",
   "metadata": {},
   "source": [
    "### ai pokemon"
   ]
  },
  {
   "cell_type": "code",
   "execution_count": 27,
   "metadata": {},
   "outputs": [
    {
     "name": "stdout",
     "output_type": "stream",
     "text": [
      "A random pokemon of 'Fighting' type is: Hitmonchan\n"
     ]
    }
   ],
   "source": [
    "list_types = ['Ground','Poison','Ice','Fire','Fighting','Flying','Electric','Grass','Rock','Dark','Bug','Dragon','Fairy','Ghost','Psychic','Normal','Steel','Water']\n",
    "ai_type = rd.choice(list_types)\n",
    "ai_pokemon = (choose_pokemon(ai_type))"
   ]
  },
  {
   "cell_type": "markdown",
   "metadata": {},
   "source": [
    "### battling pokemon\n"
   ]
  },
  {
   "cell_type": "code",
   "execution_count": 28,
   "metadata": {},
   "outputs": [
    {
     "name": "stdout",
     "output_type": "stream",
     "text": [
      "neither type counters the other.\n",
      "We will go into the final battle\n"
     ]
    }
   ],
   "source": [
    "type_counters = {\n",
    "    \"Fire\": [\"Grass\", \"Bug\", \"Ice\", \"Steel\"],\n",
    "    \"Water\": [\"Fire\", \"Ground\", \"Rock\"],\n",
    "    \"Grass\": [\"Water\", \"Ground\", \"Rock\"],\n",
    "    \"Electric\": [\"Water\", \"Flying\"],\n",
    "    \"Ground\": [\"Fire\", \"Electric\", \"Poison\", \"Rock\", \"Steel\"],\n",
    "    \"Rock\": [\"Fire\", \"Ice\", \"Flying\", \"Bug\"],\n",
    "    \"Ice\": [\"Grass\", \"Ground\", \"Flying\", \"Dragon\"],\n",
    "    \"Flying\": [\"Grass\", \"Fighting\", \"Bug\"],\n",
    "    \"Bug\": [\"Grass\", \"Psychic\", \"Dark\"],\n",
    "    \"Steel\": [\"Ice\", \"Rock\", \"Fairy\"],\n",
    "    \"Fighting\": [\"Normal\", \"Ice\", \"Rock\", \"Dark\", \"Steel\"],\n",
    "    \"Poison\": [\"Grass\", \"Fairy\"],\n",
    "    \"Psychic\": [\"Fighting\", \"Poison\"],\n",
    "    \"Dark\": [\"Psychic\", \"Ghost\"],\n",
    "    \"Fairy\": [\"Fighting\", \"Dragon\", \"Dark\"],\n",
    "    \"Dragon\": [\"Dragon\"],\n",
    "    \"Ghost\": [\"Psychic\", \"Ghost\"],\n",
    "    \"Normal\": []\n",
    "}\n",
    "def counters(type):\n",
    "    return type_counters.get(type,[])\n",
    "human_counters =(counters(human_type))\n",
    "ai_counters = (counters(ai_type))\n",
    "if ai_type in human_counters:\n",
    "    print(f\"{human_type} counters {ai_type} so you win! \")\n",
    "elif human_type in ai_counters:\n",
    "    print(f\"{ai_type} counters {human_type} so you lose :(\")\n",
    "else:\n",
    "    print(f\"Neither type counters the other.\\nWe will go into the final battle\")"
   ]
  },
  {
   "cell_type": "markdown",
   "metadata": {},
   "source": [
    "## getting power"
   ]
  },
  {
   "cell_type": "code",
   "execution_count": 29,
   "metadata": {},
   "outputs": [
    {
     "name": "stdout",
     "output_type": "stream",
     "text": [
      "The total for ShayminLand Forme is: 600\n",
      "The total for Hitmonchan is: 455\n"
     ]
    }
   ],
   "source": [
    "\n",
    "def power(pokemon):\n",
    "    try:\n",
    "        total = df.loc[df['Name'] == pokemon, 'Total'].values[0]\n",
    "        print(f\"The total for {pokemon} is: {total}\")\n",
    "        return total\n",
    "    except IndexError:\n",
    "        print(f\"{pokemon} not found in the list.\")\n",
    "human_power =(power(human_pokemon))\n",
    "ai_power = (power(ai_pokemon))\n"
   ]
  },
  {
   "cell_type": "code",
   "execution_count": 30,
   "metadata": {},
   "outputs": [],
   "source": [
    "aipmon_atk = df.loc[df['Name'] == ai_pokemon, 'Attack'].values[0]\n",
    "aipmon_hp = df.loc[df['Name'] == ai_pokemon, 'HP'].values[0]\n",
    "aipmon_def = df.loc[df['Name'] == ai_pokemon, 'Defense'].values[0]\n",
    "aipmon_spd = df.loc[df['Name'] == ai_pokemon, 'Speed'].values[0]\n",
    "\n",
    "humanpmon_atk = df.loc[df['Name'] == human_pokemon, 'Attack'].values[0]\n",
    "humanpmon_hp = df.loc[df['Name'] == human_pokemon, 'HP'].values[0]\n",
    "humanpmon_def = df.loc[df['Name'] == human_pokemon, 'Defense'].values[0]\n",
    "humanpmon_spd = df.loc[df['Name'] == human_pokemon, 'Speed'].values[0]"
   ]
  },
  {
   "cell_type": "markdown",
   "metadata": {},
   "source": [
    "# FINAL BATTLE"
   ]
  },
  {
   "cell_type": "code",
   "execution_count": 31,
   "metadata": {},
   "outputs": [
    {
     "data": {
      "image/png": "[encoded data removed]",
      "text/plain": [
       "<Figure size 640x480 with 1 Axes>"
      ]
     },
     "metadata": {},
     "output_type": "display_data"
    }
   ],
   "source": [
    "human_stats = [humanpmon_hp,humanpmon_atk,humanpmon_spd,humanpmon_def]\n",
    "ai_stats = [aipmon_hp,aipmon_atk,aipmon_spd,aipmon_def]\n",
    "labels = [\"HP\",\"Attack\",\"Speed\",\"Defense\"]\n",
    "fig, ax = plt.subplots()\n",
    "width = 0.3\n",
    "x = range(len(labels))\n",
    "ax.bar([p - width/2 for p in x], human_stats, width, color='red', label=human_pokemon)\n",
    "ax.bar([p + width/2 for p in x], ai_stats, width, color='blue', label=ai_pokemon)\n",
    "ax.set_xlabel('Stats')\n",
    "ax.set_ylabel('Value')\n",
    "ax.set_title('Pokemon Battle Stats')\n",
    "ax.set_xticks(x)\n",
    "ax.set_xticklabels(labels)\n",
    "\n",
    "plt.legend()\n",
    "plt.show()"
   ]
  },
  {
   "cell_type": "code",
   "execution_count": 32,
   "metadata": {},
   "outputs": [
    {
     "name": "stdout",
     "output_type": "stream",
     "text": [
      "Welcome to the final battle!\n",
      "None of ur pokemon counter eachother so we will take their individual stats as power (atk,def,hp,speed,etc)\n",
      "The power of the Ai's Hitmonchan is 455\n",
      "The power of your ShayminLand Forme is 600\n",
      "That means......\n",
      "YOU WON THE BATTLE! GGS.\n"
     ]
    }
   ],
   "source": [
    "if ai_type not in human_counters and human_type not in ai_counters:\n",
    "        print(\"Welcome to the final battle!\\nNone of ur pokemon counter eachother so we will take their individual stats as power (atk,def,hp,speed,etc)\")\n",
    "        print(f\"The power of the Ai's {ai_pokemon} is {ai_power}\\nThe power of your {human_pokemon} is {human_power}\\nThat means......\")\n",
    "        if human_power > ai_power:\n",
    "            print('YOU WON THE BATTLE! GGS.')\n",
    "        else:\n",
    "            print(\"Your lost the battle. Better luck next time!\")"
   ]
  }
 ],
 "metadata": {
  "kernelspec": {
   "display_name": "base",
   "language": "python",
   "name": "python3"
  },
  "language_info": {
   "codemirror_mode": {
    "name": "ipython",
    "version": 3
   },
   "file_extension": ".py",
   "mimetype": "text/x-python",
   "name": "python",
   "nbconvert_exporter": "python",
   "pygments_lexer": "ipython3",
   "version": "3.12.4"
  }
 },
 "nbformat": 4,
 "nbformat_minor": 2
}
